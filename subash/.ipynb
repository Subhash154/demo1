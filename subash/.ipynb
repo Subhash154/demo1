{
 "cells": [
  {
   "cell_type": "code",
   "execution_count": 1,
   "id": "3dd32e78",
   "metadata": {},
   "outputs": [
    {
     "name": "stdout",
     "output_type": "stream",
     "text": [
      "Hello, World!\n"
     ]
    }
   ],
   "source": [
    "print(\"Hello, World!\")"
   ]
  },
  {
   "cell_type": "code",
   "execution_count": 2,
   "id": "60964dbf",
   "metadata": {},
   "outputs": [
    {
     "name": "stdout",
     "output_type": "stream",
     "text": [
      "Fruit: Apple, Shape: Round, Color: Red, Category: Edible\n",
      "Fruit: Banana, Shape: Long, Color: Yellow, Category: Edible\n",
      "100\n",
      "100\n",
      "10\n",
      "Fruits are nutritious and healthy!\n"
     ]
    }
   ],
   "source": [
    "\n",
    "Store = \"Big Bazar\"  # global variable\n",
    "\n",
    "class Fruit:\n",
    "    category = \"Edible\" # Class Variables\n",
    "    \n",
    "    fruit_count = 100 # static Variable\n",
    "\n",
    "    # constructor method\n",
    "    def __init__(self, name, shape, color):\n",
    "        self.name = name # creating instance var inside constructor using self\n",
    "        self.shape = shape\n",
    "        self.color = color\n",
    "    \n",
    "    # Instance method\n",
    "    def display_info(self):\n",
    "        self.inst_var = 123 # creating instance var inside instance method\n",
    "        # Access the instance variables inside Instance method\n",
    "        print(f\"Fruit: {self.name}, Shape: {self.shape}, Color: {self.color}, Category: {Fruit.category}\")\n",
    "\n",
    "    # static method\n",
    "    @staticmethod\n",
    "    def general_info():\n",
    "        temp = 10 # Local variable\n",
    "        print(temp)\n",
    "        print(\"Fruits are nutritious and healthy!\")\n",
    "    \n",
    "    @classmethod\n",
    "    def modify_category(cls, new_category):\n",
    "        cls.category = new_category\n",
    "        print(f\"Updated Category: {cls.category}\")\n",
    "\n",
    "\n",
    "    # class method\n",
    "    \n",
    "\n",
    "fruit_1 = Fruit(\"Apple\", \"Round\", \"Red\")\n",
    "fruit_2 = Fruit(\"Banana\", \"Long\", \"Yellow\")\n",
    "\n",
    "fruit_1.display_info()\n",
    "fruit_2.display_info()\n",
    "\n",
    "print(fruit_1.fruit_count)\n",
    "print(fruit_2.fruit_count)\n",
    "\n",
    "# Fruit.display_info()\n",
    "Fruit.general_info()"
   ]
  }
 ],
 "metadata": {
  "kernelspec": {
   "display_name": "Python 3",
   "language": "python",
   "name": "python3"
  },
  "language_info": {
   "codemirror_mode": {
    "name": "ipython",
    "version": 3
   },
   "file_extension": ".py",
   "mimetype": "text/x-python",
   "name": "python",
   "nbconvert_exporter": "python",
   "pygments_lexer": "ipython3",
   "version": "3.13.7"
  }
 },
 "nbformat": 4,
 "nbformat_minor": 5
}
